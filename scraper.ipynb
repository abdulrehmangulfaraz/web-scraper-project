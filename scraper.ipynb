{
 "cells": [
  {
   "cell_type": "code",
   "execution_count": 12,
   "id": "73bb27b9",
   "metadata": {},
   "outputs": [],
   "source": [
    "from bs4 import BeautifulSoup\n",
    "import requests"
   ]
  },
  {
   "cell_type": "code",
   "execution_count": 13,
   "id": "cbdf7535",
   "metadata": {},
   "outputs": [
    {
     "name": "stdout",
     "output_type": "stream",
     "text": [
      "Total books found: 20\n",
      "Title: A Light in the Attic\n",
      "Link: https://books.toscrape.com/catalogue/a-light-in-the-attic_1000/index.html\n",
      "Price: Â£51.77\n",
      "Rating: Three\n"
     ]
    }
   ],
   "source": [
    "\n",
    "# Step 1: Set target URL\n",
    "url = \"https://books.toscrape.com/\"\n",
    "\n",
    "# Step 2: Send request\n",
    "response = requests.get(url)\n",
    "\n",
    "# Step 3: Parse HTML\n",
    "soup = BeautifulSoup(response.text, \"html.parser\")\n",
    "\n",
    "# Step 4: Get all book containers\n",
    "books = soup.find_all(\"article\", class_=\"product_pod\")\n",
    "print(\"Total books found:\", len(books))\n",
    "\n",
    "# Step 5: Extract info from first book only\n",
    "first_book = books[0]\n",
    "\n",
    "# Title\n",
    "title = first_book.h3.a['title']\n",
    "\n",
    "# Link (make it absolute)\n",
    "relative_link = first_book.h3.a['href']\n",
    "full_link = \"https://books.toscrape.com/\" + relative_link\n",
    "\n",
    "# Price\n",
    "price = first_book.find(\"p\", class_=\"price_color\").get_text()\n",
    "\n",
    "# Rating (e.g., \"Three\")\n",
    "rating_class = first_book.find(\"p\", class_=\"star-rating\")['class']\n",
    "rating = rating_class[1] if len(rating_class) > 1 else \"No Rating\"\n",
    "\n",
    "# Print results\n",
    "print(\"Title:\", title)\n",
    "print(\"Link:\", full_link)\n",
    "print(\"Price:\", price)\n",
    "print(\"Rating:\", rating)\n"
   ]
  },
  {
   "cell_type": "code",
   "execution_count": 14,
   "id": "c4fe4088",
   "metadata": {},
   "outputs": [
    {
     "name": "stdout",
     "output_type": "stream",
     "text": [
      "Total books scraped: 20\n",
      "Sample book: {'title': 'A Light in the Attic', 'price': 'Â£51.77', 'rating': 'Three', 'link': 'https://books.toscrape.com/catalogue/a-light-in-the-attic_1000/index.html'}\n"
     ]
    }
   ],
   "source": [
    "# Empty list to store all book data\n",
    "all_books = []\n",
    "\n",
    "# Loop through all book containers\n",
    "for book in books:\n",
    "    title = book.h3.a['title']\n",
    "    \n",
    "    relative_link = book.h3.a['href']\n",
    "    full_link = \"https://books.toscrape.com/\" + relative_link\n",
    "    \n",
    "    price = book.find(\"p\", class_=\"price_color\").get_text()\n",
    "    \n",
    "    rating_class = book.find(\"p\", class_=\"star-rating\")['class']\n",
    "    rating = rating_class[1] if len(rating_class) > 1 else \"No Rating\"\n",
    "    \n",
    "    # Save data as dictionary\n",
    "    all_books.append({\n",
    "        \"title\": title,\n",
    "        \"price\": price,\n",
    "        \"rating\": rating,\n",
    "        \"link\": full_link\n",
    "    })\n",
    "\n",
    "# Show total and preview\n",
    "print(\"Total books scraped:\", len(all_books))\n",
    "print(\"Sample book:\", all_books[0])\n"
   ]
  },
  {
   "cell_type": "code",
   "execution_count": 15,
   "id": "369ab52b",
   "metadata": {},
   "outputs": [
    {
     "name": "stdout",
     "output_type": "stream",
     "text": [
      "✅ Data saved to data.json and data.xlsx\n"
     ]
    }
   ],
   "source": [
    "import json\n",
    "import pandas as pd\n",
    "\n",
    "# Step 1: Save as JSON\n",
    "with open(\"data.json\", \"w\", encoding=\"utf-8\") as json_file:\n",
    "    json.dump(all_books, json_file, ensure_ascii=False, indent=4)\n",
    "\n",
    "# Step 2: Save as Excel\n",
    "df = pd.DataFrame(all_books)\n",
    "df.to_excel(\"data.xlsx\", index=False)\n",
    "\n",
    "print(\"✅ Data saved to data.json and data.xlsx\")\n"
   ]
  }
 ],
 "metadata": {
  "kernelspec": {
   "display_name": "Python 3",
   "language": "python",
   "name": "python3"
  },
  "language_info": {
   "codemirror_mode": {
    "name": "ipython",
    "version": 3
   },
   "file_extension": ".py",
   "mimetype": "text/x-python",
   "name": "python",
   "nbconvert_exporter": "python",
   "pygments_lexer": "ipython3",
   "version": "3.13.5"
  }
 },
 "nbformat": 4,
 "nbformat_minor": 5
}
